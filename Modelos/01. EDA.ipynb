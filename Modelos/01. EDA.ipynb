{
 "cells": [
  {
   "cell_type": "markdown",
   "id": "37842858",
   "metadata": {},
   "source": [
    "## Introducción al Análisis Exploratorio de Datos (EDA)\n",
    "\n",
    "Antes de aplicar cualquier modelo, es fundamental comprender la naturaleza y distribución de nuestro dataset de flores:\n",
    "\n",
    "- **Dimensiones y formato**  \n",
    "  Revisar resoluciones, proporciones y tipo de archivo de cada imagen para detectar posibles inconsistencias.\n",
    "\n",
    "- **Balance de clases**  \n",
    "  Contar cuántas imágenes hay de “daisy” y “dandelion” en cada partición (`train`, `valid`, `test`) para garantizar un entrenamiento equitativo.\n",
    "\n",
    "- **Distribución de color y píxeles**  \n",
    "  Generar histogramas de los canales RGB y mapas de densidad de intensidad para identificar sesgos en iluminación o coloración.\n",
    "\n",
    "- **Visualización de muestras**  \n",
    "  Mostrar mosaicos de imágenes representativas para verificar variedad, calidad y posibles artefactos.\n",
    "\n",
    "Este primer paso nos ayudará a seleccionar técnicas de preprocesado, decidir si es necesario balanceo o augmentación, y definir la arquitectura más adecuada para nuestros modelos.  \n"
   ]
  },
  {
   "cell_type": "code",
   "execution_count": 22,
   "id": "acd78500",
   "metadata": {},
   "outputs": [],
   "source": [
    "import os\n",
    "from PIL import Image\n",
    "import numpy as np\n",
    "import pandas as pd\n",
    "import matplotlib.pyplot as plt"
   ]
  },
  {
   "cell_type": "code",
   "execution_count": 23,
   "id": "98d8393c",
   "metadata": {},
   "outputs": [],
   "source": [
    "# Paths to the dataset\n",
    "DATA_DIR = 'data'\n",
    "SPLITS = ['train', 'valid', 'test']\n",
    "CLASSES = os.listdir(os.path.join(DATA_DIR, 'train'))  # e.g., ['daisy', 'dandelion']"
   ]
  },
  {
   "cell_type": "code",
   "execution_count": 24,
   "id": "e99f7285",
   "metadata": {},
   "outputs": [],
   "source": [
    "\n",
    "def collect_image_metadata(data_dir):\n",
    "    \"\"\"\n",
    "    Recorre las carpetas train, valid y test recogiendo:\n",
    "    - Ruta de la imagen\n",
    "    - Split (train/valid/test)\n",
    "    - Clase (daisy/dandelion)\n",
    "    - Formato (JPEG, PNG, etc.)\n",
    "    - Tamaño (width, height)\n",
    "    - Peso en bytes\n",
    "    \"\"\"\n",
    "    records = []\n",
    "\n",
    "    for split in SPLITS:\n",
    "        for cls in CLASSES:\n",
    "            folder = os.path.join(data_dir, split, cls)\n",
    "            for fname in os.listdir(folder):\n",
    "                path = os.path.join(folder, fname)\n",
    "                try:\n",
    "                    with Image.open(path) as img:\n",
    "                        fmt = img.format\n",
    "                        width, height = img.size\n",
    "                    size_bytes = os.path.getsize(path)\n",
    "                    records.append((path, split, cls, fmt, width, height, size_bytes))\n",
    "                except Exception as e:\n",
    "                    print(f\"Error loading {path}: {e}\")\n",
    "    df = pd.DataFrame(records, columns=[\n",
    "        'path', 'split', 'class', 'format', 'width', 'height', 'size_bytes'\n",
    "    ])\n",
    "    return df\n"
   ]
  },
  {
   "cell_type": "code",
   "execution_count": 25,
   "id": "23c537a8",
   "metadata": {},
   "outputs": [],
   "source": [
    "def plot_class_balance(df):\n",
    "    \"\"\"\n",
    "    Gráfico de barras de balance de clases por split\n",
    "    \"\"\"\n",
    "    counts = df.groupby(['split', 'class']).size().unstack(fill_value=0)\n",
    "    counts.plot(kind='bar', figsize=(8, 5))\n",
    "    plt.title('Balance de clases por split')\n",
    "    plt.xlabel('Split')\n",
    "    plt.ylabel('Número de imágenes')\n",
    "    plt.legend(title='Clase')\n",
    "    plt.tight_layout()\n",
    "    plt.show()"
   ]
  },
  {
   "cell_type": "code",
   "execution_count": 26,
   "id": "f56e1dd8",
   "metadata": {},
   "outputs": [],
   "source": [
    "def plot_image_size_distribution(df):\n",
    "    \"\"\"\n",
    "    Histograma de resoluciones (ancho y alto)\n",
    "    \"\"\"\n",
    "    fig, axes = plt.subplots(1, 2, figsize=(12, 5))\n",
    "    axes[0].hist(df['width'], bins=30)\n",
    "    axes[0].set_title('Distribución de anchos')\n",
    "    axes[0].set_xlabel('Ancho (px)')\n",
    "    axes[0].set_ylabel('Frecuencia')\n",
    "\n",
    "    axes[1].hist(df['height'], bins=30)\n",
    "    axes[1].set_title('Distribución de altos')\n",
    "    axes[1].set_xlabel('Alto (px)')\n",
    "    axes[1].set_ylabel('Frecuencia')\n",
    "\n",
    "    plt.tight_layout()\n",
    "    plt.show()"
   ]
  },
  {
   "cell_type": "code",
   "execution_count": 27,
   "id": "be2b86e7",
   "metadata": {},
   "outputs": [],
   "source": [
    "def plot_color_histogram(image_path):\n",
    "    \"\"\"\n",
    "    Histograma de color por canal (RGB) para una imagen dada\n",
    "    \"\"\"\n",
    "    with Image.open(image_path) as img:\n",
    "        arr = np.array(img)\n",
    "    # Aplanar cada canal y trazar histograma\n",
    "    colors = ('r', 'g', 'b')\n",
    "    plt.figure(figsize=(6, 4))\n",
    "    for i, col in enumerate(colors):\n",
    "        channel = arr[:, :, i].flatten()\n",
    "        plt.hist(channel, bins=256, alpha=0.5, label=col)\n",
    "    plt.title(f'Histograma de color: {os.path.basename(image_path)}')\n",
    "    plt.xlabel('Intensidad de píxel')\n",
    "    plt.ylabel('Frecuencia')\n",
    "    plt.legend()\n",
    "    plt.tight_layout()\n",
    "    plt.show()\n"
   ]
  },
  {
   "cell_type": "code",
   "execution_count": 28,
   "id": "48abd4a7",
   "metadata": {},
   "outputs": [],
   "source": [
    "def compute_pixel_statistics(df, sample_n=100):\n",
    "    \"\"\"\n",
    "    Selecciona aleatoriamente imágenes de cada clase y split para analizar distribuciones de píxeles.\n",
    "    \"\"\"\n",
    "    sample = df.groupby(['split', 'class']).sample(n=min(sample_n, len(df)), random_state=42)\n",
    "    pixel_stats = []\n",
    "    for idx, row in sample.iterrows():\n",
    "        with Image.open(row['path']) as img:\n",
    "            arr = np.array(img)\n",
    "        pixel_stats.append({\n",
    "            'split': row['split'],\n",
    "            'class': row['class'],\n",
    "            'mean': arr.mean(),\n",
    "            'std': arr.std(),\n",
    "            'min': arr.min(),\n",
    "            'max': arr.max()\n",
    "        })\n",
    "    stats_df = pd.DataFrame(pixel_stats)\n",
    "    return stats_df"
   ]
  },
  {
   "cell_type": "code",
   "execution_count": 30,
   "id": "a4c5f873",
   "metadata": {},
   "outputs": [
    {
     "name": "stdout",
     "output_type": "stream",
     "text": [
      "                                                path  split  class format  \\\n",
      "0  data\\train\\daisy\\100080576_f52e8ee070_n_jpg.rf...  train  daisy   JPEG   \n",
      "1  data\\train\\daisy\\10172379554_b296050f82_n_jpg....  train  daisy   JPEG   \n",
      "2  data\\train\\daisy\\10172567486_2748826a8b_jpg.rf...  train  daisy   JPEG   \n",
      "3  data\\train\\daisy\\10172636503_21bededa75_n_jpg....  train  daisy   JPEG   \n",
      "4  data\\train\\daisy\\102841525_bd6628ae3c_jpg.rf.f...  train  daisy   JPEG   \n",
      "\n",
      "   width  height  size_bytes  \n",
      "0    512     512       27544  \n",
      "1    512     512       44730  \n",
      "2    512     512       36028  \n",
      "3    512     512       28633  \n",
      "4    512     512       46834  \n"
     ]
    }
   ],
   "source": [
    "df_meta = collect_image_metadata(DATA_DIR)\n",
    "print(df_meta.head())"
   ]
  },
  {
   "cell_type": "code",
   "execution_count": 31,
   "id": "d2eff2c2",
   "metadata": {},
   "outputs": [
    {
     "data": {
      "image/png": "[encoded data removed]",
      "text/plain": [
       "<Figure size 800x500 with 1 Axes>"
      ]
     },
     "metadata": {},
     "output_type": "display_data"
    }
   ],
   "source": [
    "# Mostrar balance de clases\n",
    "plot_class_balance(df_meta)"
   ]
  },
  {
   "cell_type": "markdown",
   "id": "54988761",
   "metadata": {},
   "source": [
    "## Balance de Clases\n",
    "\n",
    "Al analizar el número de imágenes por categoría, observamos que la clase **dandelion** tiene aproximadamente un 15 % más de muestras que la clase **daisy**. Esta ligera diferencia no compromete un entrenamiento equilibrado y puede considerarse aceptable para nuestros modelos.  \n"
   ]
  },
  {
   "cell_type": "code",
   "execution_count": 32,
   "id": "b97421cc",
   "metadata": {},
   "outputs": [
    {
     "data": {
      "image/png": "[encoded data removed]",
      "text/plain": [
       "<Figure size 1200x500 with 2 Axes>"
      ]
     },
     "metadata": {},
     "output_type": "display_data"
    }
   ],
   "source": [
    "# Mostrar distribución de tamaños\n",
    "plot_image_size_distribution(df_meta)"
   ]
  },
  {
   "cell_type": "markdown",
   "id": "2afcadfb",
   "metadata": {},
   "source": [
    "## Tamaño de las Imágenes\n",
    "\n",
    "Todas las imágenes del dataset comparten la misma resolución, de modo que no es necesario realizar recortes o padding adicionales durante el preprocesado. Esto simplifica la construcción de los pipelines de entrada y garantiza uniformidad en las dimensiones de los tensores de entrada.  \n"
   ]
  },
  {
   "cell_type": "code",
   "execution_count": 33,
   "id": "ea15b550",
   "metadata": {},
   "outputs": [
    {
     "name": "stdout",
     "output_type": "stream",
     "text": [
      "                       mean                   std              min            \\\n",
      "                       mean        std       mean        std  mean       std   \n",
      "split class                                                                    \n",
      "test  daisy       95.066192  29.720138  66.165539  12.621804  0.00  0.000000   \n",
      "      dandelion  102.935731  35.233614  62.125776  15.631470  0.76  3.473280   \n",
      "train daisy      103.632873  40.316847  66.779861  13.405330  0.00  0.000000   \n",
      "      dandelion   99.324376  36.846539  59.862694  14.803825  0.48  2.764498   \n",
      "valid daisy       98.801301  41.269973  64.502457  16.434557  0.00  0.000000   \n",
      "      dandelion  110.400333  30.041407  64.631123  14.604815  0.44  3.111270   \n",
      "\n",
      "                    max            \n",
      "                   mean       std  \n",
      "split class                        \n",
      "test  daisy      254.34  3.788328  \n",
      "      dandelion  255.00  0.000000  \n",
      "train daisy      254.00  4.598136  \n",
      "      dandelion  252.48  7.691076  \n",
      "valid daisy      252.84  7.487023  \n",
      "      dandelion  253.82  4.236335  \n"
     ]
    }
   ],
   "source": [
    "# Estadísticas de píxeles\n",
    "stats_df = compute_pixel_statistics(df_meta, sample_n=50)\n",
    "print(stats_df.groupby(['split', 'class']).agg(['mean', 'std']))"
   ]
  },
  {
   "cell_type": "markdown",
   "id": "dcdc93e4",
   "metadata": {},
   "source": [
    "## Estadísticas de Intensidad de Pixel por Split y Clase\n",
    "\n",
    "- **Canales R/G/B**: Las medias de los canales muestran que las imágenes de **dandelion** tienden a ser ligeramente más brillantes en rojo (110 vs 99–103) y presentan desviaciones similares en cada split.  \n",
    "- **Mínimos**: Las margaritas (daisy) a menudo tienen píxeles completamente negros (0), mientras que los dientes de león (dandelion) raramente alcanzan 0, indicando un fondo ligeramente más iluminado.  \n",
    "- **Máximos**: Ambos tipos alcanzan valores máximos muy cercanos a 255, con pequeñas variaciones en desviación estándar.  \n",
    "- **Consistencia entre splits**: Los valores medios y sus desviaciones son homogéneos entre `train`, `valid` y `test`, lo que confirma que no hay sesgos de iluminación o contraste significativos en ninguna partición.  \n"
   ]
  }
 ],
 "metadata": {
  "kernelspec": {
   "display_name": "MLMBD",
   "language": "python",
   "name": "python3"
  },
  "language_info": {
   "codemirror_mode": {
    "name": "ipython",
    "version": 3
   },
   "file_extension": ".py",
   "mimetype": "text/x-python",
   "name": "python",
   "nbconvert_exporter": "python",
   "pygments_lexer": "ipython3",
   "version": "3.11.9"
  }
 },
 "nbformat": 4,
 "nbformat_minor": 5
}
